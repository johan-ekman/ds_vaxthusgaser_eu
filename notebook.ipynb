{
 "cells": [
  {
   "cell_type": "code",
   "execution_count": 2,
   "metadata": {},
   "outputs": [],
   "source": [
    "import pandas as pd\n",
    "import numpy as np\n",
    "\n",
    "import matplotlib.pyplot as plt\n",
    "\n",
    "import warnings\n",
    "import os\n",
    "\n",
    "warnings.filterwarnings('ignore')\n",
    "%matplotlib inline"
   ]
  },
  {
   "cell_type": "markdown",
   "metadata": {},
   "source": [
    "**Februari 2019**\n",
    "\n",
    "Jag fick idén att vi borde jämföra utsläpp av växthusgaser inom EU med hur det ser ut i svenska regioner/kommuner. Data på EU-nivå finns hos Eurostat, men frågan är ifall det är kompatibelt med det som finns på kommunal nivå (som finns i Kolada). Här är lite researchanteckningar:\n",
    "\n",
    "----\n",
    "\n",
    "Viktiga länkar:\n",
    "\n",
    "1. Totala utsläpp per EU-land: http://appsso.eurostat.ec.europa.eu/nui/show.do?dataset=env_ac_ainah_r2&lang=en\n",
    "\n",
    "2. Beskrivning av data: https://ec.europa.eu/eurostat/cache/metadata/en/env_ac_ainah_r2_esms.htm\n",
    "\n",
    "3. Svensk data framtagen av RUS: http://extra.lansstyrelsen.se/rus/Sv/statistik-och-data/nationell-emissionsdatabas/Pages/default.aspx\n",
    "\n",
    "Kollade upp kontakterna till RUS (som står som källa till de regionala uppgifterna om utsläpp av växthusgaser i Kolada). Samordnare på RUS hänvisade till Birgit Nielsen som är expert på området. \n",
    "\n",
    "Mejlade Birgit och hon svarade att den jämförelse jag är intresserad av får man stämma av med Naturvårdsverket. \n",
    "\n",
    "Efter att ha blivit lite runtbollad så hittade jag rätt person på Naturvårdsverket. Han visade sig var superhygglig och veta exakt vad jag önskade. Han rekommenderade mig att istället använda mig av EEA:s siffror då dessa är rakt av de som han är med att ta fram för regionala uträkningar i Sverige. Länk: https://www.eea.europa.eu/data-and-maps/data/data-viewers/greenhouse-gases-viewer\n",
    "\n",
    "---\n",
    "\n",
    "**Resultatet publicerades i nr 9 2019, och finns att [läsa på webben här!](https://www.dagenssamhalle.se/nyhet/utslappen-minskar-men-inte-i-norrbotten-26556)**\n"
   ]
  },
  {
   "cell_type": "markdown",
   "metadata": {},
   "source": [
    "---"
   ]
  },
  {
   "cell_type": "markdown",
   "metadata": {},
   "source": [
    "Nu gäller alltså att räkna ut EEA:s siffror per invånare och sedan jämföra med svenska kommuner!"
   ]
  },
  {
   "cell_type": "code",
   "execution_count": 3,
   "metadata": {},
   "outputs": [],
   "source": [
    "länder = {\n",
    "    'EU28 (Convention)':'EU28',\n",
    "    'Euro area (18 countries)':'Euro18',\n",
    "    'Euro area (19 countries)':'Euro19',\n",
    "    'European Economic Area (EU27 plus IS, LI, NO)':'EEA27',\n",
    "    'European Economic Area (EU28 plus IS, LI, NO)':'EEA28',\n",
    "    'European Free Trade Association':'EFTA',\n",
    "    'European Union - 27 countries (2007-2013)':'EU27-old',\n",
    "    'European Union - 27 countries (from 2019)':'EU27-new',\n",
    "    'European Union - 28 countries':'EU28',\n",
    "    'EU (KP)':'EU(KP)',\n",
    "    'Albania':'Albanien',\n",
    "    'Andorra':'Andorra',\n",
    "    'Armenia':'Armenien',\n",
    "    'Austria':'Österrike',\n",
    "    'Azerbaijan':'Azerbajdzjan',\n",
    "    'Belarus':'Vitryssland',\n",
    "    'Belgium':'Belgien',\n",
    "    'Bosnia and Herzegovina':'Bosnien och Herzegovina',\n",
    "    'Bulgaria':'Bulgarien',\n",
    "    'Croatia':'Kroatien',\n",
    "    'Cyprus':'Cypern',\n",
    "    'Czech Republic':'Tjeckien',\n",
    "    'Czechia':'Tjeckien',\n",
    "    'Denmark':'Danmark',\n",
    "    'Estonia':'Estland',\n",
    "    'Finland':'Finland',\n",
    "    'France':'Frankrike',\n",
    "    'France (metropolitan)':'Frankrike (Europa)',\n",
    "    'Georgia':'Georgien',\n",
    "    'Germany':'Tyskland',\n",
    "    'Germany (until 1990 former territory of the FRG)':'Tyskland',\n",
    "    'Germany including former GDR':'Tyskland (inkl tidigare GDR)',\n",
    "    'Greece':'Grekland',\n",
    "    'Hungary':'Ungern',\n",
    "    'Iceland':'Island',\n",
    "    'Ireland':'Irland',\n",
    "    'Italy':'Italien',\n",
    "    'Kosovo (under United Nations Security Council Resolution 1244/99)':'Kosovo',\n",
    "    'Latvia':'Lettland',\n",
    "    'Liechtenstein':'Liechtenstein',\n",
    "    'Lithuania':'Litauen',\n",
    "    'Luxembourg':'Luxembourg',\n",
    "    'Malta':'Malta',\n",
    "    'Moldova':'Moldavien',\n",
    "    'Monaco':'Monaco',\n",
    "    'Montenegro':'Montenegro',\n",
    "    'Netherlands':'Nederländerna',\n",
    "    'North Macedonia':'Norra Makedonien',\n",
    "    'Norway':'Norge',\n",
    "    'Poland':'Polen',\n",
    "    'Portugal':'Portugal',\n",
    "    'Romania':'Rumänien',\n",
    "    'San Marino':'San Marino',\n",
    "    'Serbia':'Serbien',\n",
    "    'Slovakia':'Slovakien',\n",
    "    'Slovenia':'Slovenien',\n",
    "    'Spain':'Spanien',\n",
    "    'Sweden':'Sverige',\n",
    "    'Switzerland':'Schweiz',\n",
    "    'Turkey':'Turkiet',\n",
    "    'Ukraine':'Ukraina',\n",
    "    'United Kingdom':'Storbritannien',\n",
    "    'United Kingdom (Convention)':'Storbritannien'\n",
    "}"
   ]
  },
  {
   "cell_type": "markdown",
   "metadata": {},
   "source": [
    "**Befolkning EU**"
   ]
  },
  {
   "cell_type": "code",
   "execution_count": 4,
   "metadata": {},
   "outputs": [],
   "source": [
    "pop = pd.read_csv('data/demo_gind_1_Data.csv')\n",
    "pop.columns = pop.columns.str.lower()"
   ]
  },
  {
   "cell_type": "code",
   "execution_count": 5,
   "metadata": {},
   "outputs": [],
   "source": [
    "pop.loc[pop['value']==':','value'] = np.nan\n",
    "pop['value'] = pd.to_numeric(pop['value'].str.replace('\\.',''))\n",
    "pop =  pop[(pop['indic_de'].str.contains('1 January'))&(pop['indic_de'].str.contains('total'))]"
   ]
  },
  {
   "cell_type": "code",
   "execution_count": 6,
   "metadata": {},
   "outputs": [],
   "source": [
    "pop['geo'] = pop['geo'].map(länder)\n",
    "pop = pop.drop('indic_de',axis=1).dropna()"
   ]
  },
  {
   "cell_type": "markdown",
   "metadata": {},
   "source": [
    "**Utsläpp EU**"
   ]
  },
  {
   "cell_type": "code",
   "execution_count": 7,
   "metadata": {},
   "outputs": [],
   "source": [
    "ems = pd.read_excel('data/eea_data.xlsx')"
   ]
  },
  {
   "cell_type": "code",
   "execution_count": 8,
   "metadata": {},
   "outputs": [],
   "source": [
    "ems.columns = ems.columns.str.replace(\"Total \\(without LULUCF, without indirect CO2\\) - \",\"\")"
   ]
  },
  {
   "cell_type": "code",
   "execution_count": 9,
   "metadata": {},
   "outputs": [],
   "source": [
    "ems = ems.melt(id_vars=['land','mått'],var_name='år',value_name='miljoner_ton').drop('mått',axis=1)"
   ]
  },
  {
   "cell_type": "code",
   "execution_count": 10,
   "metadata": {},
   "outputs": [],
   "source": [
    "ems.land = ems.land.map(länder)"
   ]
  },
  {
   "cell_type": "code",
   "execution_count": 11,
   "metadata": {},
   "outputs": [],
   "source": [
    "ems.år = pd.to_numeric(ems.år)"
   ]
  },
  {
   "cell_type": "code",
   "execution_count": 12,
   "metadata": {},
   "outputs": [
    {
     "data": {
      "text/html": [
       "<div>\n",
       "<style scoped>\n",
       "    .dataframe tbody tr th:only-of-type {\n",
       "        vertical-align: middle;\n",
       "    }\n",
       "\n",
       "    .dataframe tbody tr th {\n",
       "        vertical-align: top;\n",
       "    }\n",
       "\n",
       "    .dataframe thead th {\n",
       "        text-align: right;\n",
       "    }\n",
       "</style>\n",
       "<table border=\"1\" class=\"dataframe\">\n",
       "  <thead>\n",
       "    <tr style=\"text-align: right;\">\n",
       "      <th></th>\n",
       "      <th>land</th>\n",
       "      <th>år</th>\n",
       "      <th>miljoner_ton</th>\n",
       "    </tr>\n",
       "  </thead>\n",
       "  <tbody>\n",
       "    <tr>\n",
       "      <th>0</th>\n",
       "      <td>EU28</td>\n",
       "      <td>1990</td>\n",
       "      <td>5646.080089</td>\n",
       "    </tr>\n",
       "    <tr>\n",
       "      <th>1</th>\n",
       "      <td>EU(KP)</td>\n",
       "      <td>1990</td>\n",
       "      <td>5652.249726</td>\n",
       "    </tr>\n",
       "    <tr>\n",
       "      <th>2</th>\n",
       "      <td>Österrike</td>\n",
       "      <td>1990</td>\n",
       "      <td>78.690048</td>\n",
       "    </tr>\n",
       "    <tr>\n",
       "      <th>3</th>\n",
       "      <td>Belgien</td>\n",
       "      <td>1990</td>\n",
       "      <td>146.654019</td>\n",
       "    </tr>\n",
       "    <tr>\n",
       "      <th>4</th>\n",
       "      <td>Bulgarien</td>\n",
       "      <td>1990</td>\n",
       "      <td>103.989210</td>\n",
       "    </tr>\n",
       "  </tbody>\n",
       "</table>\n",
       "</div>"
      ],
      "text/plain": [
       "        land    år  miljoner_ton\n",
       "0       EU28  1990   5646.080089\n",
       "1     EU(KP)  1990   5652.249726\n",
       "2  Österrike  1990     78.690048\n",
       "3    Belgien  1990    146.654019\n",
       "4  Bulgarien  1990    103.989210"
      ]
     },
     "execution_count": 12,
     "metadata": {},
     "output_type": "execute_result"
    }
   ],
   "source": [
    "ems.head()"
   ]
  },
  {
   "cell_type": "markdown",
   "metadata": {},
   "source": [
    "**Utsläpp per inv EU**"
   ]
  },
  {
   "cell_type": "code",
   "execution_count": 13,
   "metadata": {},
   "outputs": [],
   "source": [
    "ems_inv = ems.merge(pop.rename(columns={'geo':'land','time':'år'}),on=['land','år'],how='left').dropna().rename(columns={'value':'inv'})"
   ]
  },
  {
   "cell_type": "code",
   "execution_count": 14,
   "metadata": {},
   "outputs": [],
   "source": [
    "ems_inv['ton'] = ems_inv['miljoner_ton']*1000000"
   ]
  },
  {
   "cell_type": "code",
   "execution_count": 15,
   "metadata": {},
   "outputs": [],
   "source": [
    "ems_inv['ems_p_inv'] = ems_inv['ton']/ems_inv['inv']"
   ]
  },
  {
   "cell_type": "code",
   "execution_count": 16,
   "metadata": {},
   "outputs": [],
   "source": [
    "ems_inv = ems_inv.drop('miljoner_ton',axis=1)"
   ]
  },
  {
   "cell_type": "code",
   "execution_count": 17,
   "metadata": {},
   "outputs": [],
   "source": [
    "ems_inv = ems_inv.reset_index(drop=True)[['land','år','ems_p_inv']]"
   ]
  },
  {
   "cell_type": "code",
   "execution_count": 18,
   "metadata": {},
   "outputs": [],
   "source": [
    "ems_inv = ems_inv[ems_inv['år']>1999].reset_index(drop=True)"
   ]
  },
  {
   "cell_type": "code",
   "execution_count": 19,
   "metadata": {},
   "outputs": [],
   "source": [
    "ems_inv = ems_inv.pivot_table(index='land',columns='år').round(1).reset_index()"
   ]
  },
  {
   "cell_type": "code",
   "execution_count": 20,
   "metadata": {},
   "outputs": [],
   "source": [
    "ems_inv.columns = ems_inv.columns.droplevel()"
   ]
  },
  {
   "cell_type": "code",
   "execution_count": 21,
   "metadata": {},
   "outputs": [],
   "source": [
    "ems_inv.columns = ['land']+ ems_inv.columns[1:].tolist()"
   ]
  },
  {
   "cell_type": "code",
   "execution_count": 22,
   "metadata": {},
   "outputs": [
    {
     "data": {
      "text/html": [
       "<div>\n",
       "<style scoped>\n",
       "    .dataframe tbody tr th:only-of-type {\n",
       "        vertical-align: middle;\n",
       "    }\n",
       "\n",
       "    .dataframe tbody tr th {\n",
       "        vertical-align: top;\n",
       "    }\n",
       "\n",
       "    .dataframe thead th {\n",
       "        text-align: right;\n",
       "    }\n",
       "</style>\n",
       "<table border=\"1\" class=\"dataframe\">\n",
       "  <thead>\n",
       "    <tr style=\"text-align: right;\">\n",
       "      <th></th>\n",
       "      <th>land</th>\n",
       "      <th>2000</th>\n",
       "      <th>2001</th>\n",
       "      <th>2002</th>\n",
       "      <th>2003</th>\n",
       "      <th>2004</th>\n",
       "      <th>2005</th>\n",
       "      <th>2006</th>\n",
       "      <th>2007</th>\n",
       "      <th>2008</th>\n",
       "      <th>2009</th>\n",
       "      <th>2010</th>\n",
       "      <th>2011</th>\n",
       "      <th>2012</th>\n",
       "      <th>2013</th>\n",
       "      <th>2014</th>\n",
       "      <th>2015</th>\n",
       "      <th>2016</th>\n",
       "    </tr>\n",
       "  </thead>\n",
       "  <tbody>\n",
       "    <tr>\n",
       "      <th>0</th>\n",
       "      <td>Belgien</td>\n",
       "      <td>14.6</td>\n",
       "      <td>14.4</td>\n",
       "      <td>14.3</td>\n",
       "      <td>14.3</td>\n",
       "      <td>14.4</td>\n",
       "      <td>13.9</td>\n",
       "      <td>13.6</td>\n",
       "      <td>13.1</td>\n",
       "      <td>13.0</td>\n",
       "      <td>11.7</td>\n",
       "      <td>12.2</td>\n",
       "      <td>11.1</td>\n",
       "      <td>10.8</td>\n",
       "      <td>10.7</td>\n",
       "      <td>10.2</td>\n",
       "      <td>10.5</td>\n",
       "      <td>10.4</td>\n",
       "    </tr>\n",
       "    <tr>\n",
       "      <th>1</th>\n",
       "      <td>Bulgarien</td>\n",
       "      <td>7.3</td>\n",
       "      <td>7.7</td>\n",
       "      <td>7.6</td>\n",
       "      <td>8.2</td>\n",
       "      <td>8.2</td>\n",
       "      <td>8.3</td>\n",
       "      <td>8.5</td>\n",
       "      <td>9.0</td>\n",
       "      <td>8.9</td>\n",
       "      <td>7.8</td>\n",
       "      <td>8.2</td>\n",
       "      <td>8.9</td>\n",
       "      <td>8.3</td>\n",
       "      <td>7.6</td>\n",
       "      <td>8.1</td>\n",
       "      <td>8.6</td>\n",
       "      <td>8.3</td>\n",
       "    </tr>\n",
       "    <tr>\n",
       "      <th>2</th>\n",
       "      <td>Cypern</td>\n",
       "      <td>12.0</td>\n",
       "      <td>11.8</td>\n",
       "      <td>12.0</td>\n",
       "      <td>12.4</td>\n",
       "      <td>12.5</td>\n",
       "      <td>12.6</td>\n",
       "      <td>12.7</td>\n",
       "      <td>12.9</td>\n",
       "      <td>12.8</td>\n",
       "      <td>12.2</td>\n",
       "      <td>11.5</td>\n",
       "      <td>10.9</td>\n",
       "      <td>10.0</td>\n",
       "      <td>9.1</td>\n",
       "      <td>9.6</td>\n",
       "      <td>9.8</td>\n",
       "      <td>10.3</td>\n",
       "    </tr>\n",
       "    <tr>\n",
       "      <th>3</th>\n",
       "      <td>Danmark</td>\n",
       "      <td>13.1</td>\n",
       "      <td>13.4</td>\n",
       "      <td>13.3</td>\n",
       "      <td>14.2</td>\n",
       "      <td>13.0</td>\n",
       "      <td>12.1</td>\n",
       "      <td>13.5</td>\n",
       "      <td>12.6</td>\n",
       "      <td>11.9</td>\n",
       "      <td>11.3</td>\n",
       "      <td>11.4</td>\n",
       "      <td>10.4</td>\n",
       "      <td>9.5</td>\n",
       "      <td>9.8</td>\n",
       "      <td>9.0</td>\n",
       "      <td>8.5</td>\n",
       "      <td>8.8</td>\n",
       "    </tr>\n",
       "    <tr>\n",
       "      <th>4</th>\n",
       "      <td>EU28</td>\n",
       "      <td>10.6</td>\n",
       "      <td>10.7</td>\n",
       "      <td>10.6</td>\n",
       "      <td>10.7</td>\n",
       "      <td>10.7</td>\n",
       "      <td>10.6</td>\n",
       "      <td>10.5</td>\n",
       "      <td>10.4</td>\n",
       "      <td>10.1</td>\n",
       "      <td>9.3</td>\n",
       "      <td>9.5</td>\n",
       "      <td>9.2</td>\n",
       "      <td>9.0</td>\n",
       "      <td>8.8</td>\n",
       "      <td>8.5</td>\n",
       "      <td>8.5</td>\n",
       "      <td>8.4</td>\n",
       "    </tr>\n",
       "  </tbody>\n",
       "</table>\n",
       "</div>"
      ],
      "text/plain": [
       "        land  2000  2001  2002  2003  2004  2005  2006  2007  2008  2009  \\\n",
       "0    Belgien  14.6  14.4  14.3  14.3  14.4  13.9  13.6  13.1  13.0  11.7   \n",
       "1  Bulgarien   7.3   7.7   7.6   8.2   8.2   8.3   8.5   9.0   8.9   7.8   \n",
       "2     Cypern  12.0  11.8  12.0  12.4  12.5  12.6  12.7  12.9  12.8  12.2   \n",
       "3    Danmark  13.1  13.4  13.3  14.2  13.0  12.1  13.5  12.6  11.9  11.3   \n",
       "4       EU28  10.6  10.7  10.6  10.7  10.7  10.6  10.5  10.4  10.1   9.3   \n",
       "\n",
       "   2010  2011  2012  2013  2014  2015  2016  \n",
       "0  12.2  11.1  10.8  10.7  10.2  10.5  10.4  \n",
       "1   8.2   8.9   8.3   7.6   8.1   8.6   8.3  \n",
       "2  11.5  10.9  10.0   9.1   9.6   9.8  10.3  \n",
       "3  11.4  10.4   9.5   9.8   9.0   8.5   8.8  \n",
       "4   9.5   9.2   9.0   8.8   8.5   8.5   8.4  "
      ]
     },
     "execution_count": 22,
     "metadata": {},
     "output_type": "execute_result"
    }
   ],
   "source": [
    "ems_inv.head()"
   ]
  },
  {
   "cell_type": "markdown",
   "metadata": {},
   "source": [
    "**Utsläpp svenska kommuner**"
   ]
  },
  {
   "cell_type": "code",
   "execution_count": 23,
   "metadata": {},
   "outputs": [],
   "source": [
    "kommuner = pd.read_excel('data/kommuner.xls')"
   ]
  },
  {
   "cell_type": "code",
   "execution_count": 24,
   "metadata": {},
   "outputs": [],
   "source": [
    "kommuner = kommuner.pivot_table(index='kommun',columns='år').round(1).reset_index()"
   ]
  },
  {
   "cell_type": "code",
   "execution_count": 25,
   "metadata": {},
   "outputs": [],
   "source": [
    "kommuner.columns = kommuner.columns.droplevel()"
   ]
  },
  {
   "cell_type": "code",
   "execution_count": 26,
   "metadata": {},
   "outputs": [],
   "source": [
    "kommuner.columns = ['kommun']+ kommuner.columns[1:].tolist()"
   ]
  },
  {
   "cell_type": "code",
   "execution_count": 27,
   "metadata": {},
   "outputs": [
    {
     "data": {
      "text/html": [
       "<div>\n",
       "<style scoped>\n",
       "    .dataframe tbody tr th:only-of-type {\n",
       "        vertical-align: middle;\n",
       "    }\n",
       "\n",
       "    .dataframe tbody tr th {\n",
       "        vertical-align: top;\n",
       "    }\n",
       "\n",
       "    .dataframe thead th {\n",
       "        text-align: right;\n",
       "    }\n",
       "</style>\n",
       "<table border=\"1\" class=\"dataframe\">\n",
       "  <thead>\n",
       "    <tr style=\"text-align: right;\">\n",
       "      <th></th>\n",
       "      <th>kommun</th>\n",
       "      <th>2005</th>\n",
       "      <th>2006</th>\n",
       "      <th>2007</th>\n",
       "      <th>2008</th>\n",
       "      <th>2009</th>\n",
       "      <th>2010</th>\n",
       "      <th>2011</th>\n",
       "      <th>2012</th>\n",
       "      <th>2013</th>\n",
       "      <th>2014</th>\n",
       "      <th>2015</th>\n",
       "      <th>2016</th>\n",
       "    </tr>\n",
       "  </thead>\n",
       "  <tbody>\n",
       "    <tr>\n",
       "      <th>170</th>\n",
       "      <td>Oxelösund</td>\n",
       "      <td>232.7</td>\n",
       "      <td>198.5</td>\n",
       "      <td>212.1</td>\n",
       "      <td>196.3</td>\n",
       "      <td>82.4</td>\n",
       "      <td>198.7</td>\n",
       "      <td>174.4</td>\n",
       "      <td>142.4</td>\n",
       "      <td>133.6</td>\n",
       "      <td>137.9</td>\n",
       "      <td>189.8</td>\n",
       "      <td>130.7</td>\n",
       "    </tr>\n",
       "    <tr>\n",
       "      <th>133</th>\n",
       "      <td>Lysekil</td>\n",
       "      <td>90.0</td>\n",
       "      <td>122.4</td>\n",
       "      <td>117.1</td>\n",
       "      <td>126.6</td>\n",
       "      <td>128.4</td>\n",
       "      <td>120.3</td>\n",
       "      <td>125.0</td>\n",
       "      <td>130.2</td>\n",
       "      <td>105.7</td>\n",
       "      <td>120.7</td>\n",
       "      <td>127.8</td>\n",
       "      <td>101.8</td>\n",
       "    </tr>\n",
       "    <tr>\n",
       "      <th>130</th>\n",
       "      <td>Luleå</td>\n",
       "      <td>55.0</td>\n",
       "      <td>54.7</td>\n",
       "      <td>56.2</td>\n",
       "      <td>53.8</td>\n",
       "      <td>39.6</td>\n",
       "      <td>52.7</td>\n",
       "      <td>49.9</td>\n",
       "      <td>45.7</td>\n",
       "      <td>47.5</td>\n",
       "      <td>47.9</td>\n",
       "      <td>38.8</td>\n",
       "      <td>50.8</td>\n",
       "    </tr>\n",
       "    <tr>\n",
       "      <th>197</th>\n",
       "      <td>Stenungsund</td>\n",
       "      <td>45.2</td>\n",
       "      <td>38.7</td>\n",
       "      <td>40.1</td>\n",
       "      <td>36.5</td>\n",
       "      <td>32.6</td>\n",
       "      <td>47.1</td>\n",
       "      <td>42.8</td>\n",
       "      <td>41.2</td>\n",
       "      <td>42.3</td>\n",
       "      <td>40.0</td>\n",
       "      <td>37.6</td>\n",
       "      <td>41.0</td>\n",
       "    </tr>\n",
       "    <tr>\n",
       "      <th>51</th>\n",
       "      <td>Gotland</td>\n",
       "      <td>40.3</td>\n",
       "      <td>41.5</td>\n",
       "      <td>36.3</td>\n",
       "      <td>37.1</td>\n",
       "      <td>34.6</td>\n",
       "      <td>38.4</td>\n",
       "      <td>39.8</td>\n",
       "      <td>41.0</td>\n",
       "      <td>38.4</td>\n",
       "      <td>37.9</td>\n",
       "      <td>41.0</td>\n",
       "      <td>38.7</td>\n",
       "    </tr>\n",
       "    <tr>\n",
       "      <th>100</th>\n",
       "      <td>Kiruna</td>\n",
       "      <td>29.3</td>\n",
       "      <td>23.2</td>\n",
       "      <td>23.6</td>\n",
       "      <td>23.7</td>\n",
       "      <td>20.3</td>\n",
       "      <td>33.1</td>\n",
       "      <td>33.8</td>\n",
       "      <td>33.3</td>\n",
       "      <td>31.6</td>\n",
       "      <td>32.0</td>\n",
       "      <td>31.1</td>\n",
       "      <td>32.3</td>\n",
       "    </tr>\n",
       "    <tr>\n",
       "      <th>149</th>\n",
       "      <td>Mörbylånga</td>\n",
       "      <td>29.5</td>\n",
       "      <td>28.3</td>\n",
       "      <td>26.6</td>\n",
       "      <td>29.5</td>\n",
       "      <td>27.6</td>\n",
       "      <td>29.1</td>\n",
       "      <td>29.9</td>\n",
       "      <td>28.3</td>\n",
       "      <td>26.5</td>\n",
       "      <td>28.2</td>\n",
       "      <td>27.1</td>\n",
       "      <td>25.9</td>\n",
       "    </tr>\n",
       "    <tr>\n",
       "      <th>55</th>\n",
       "      <td>Gällivare</td>\n",
       "      <td>24.1</td>\n",
       "      <td>15.5</td>\n",
       "      <td>18.4</td>\n",
       "      <td>18.4</td>\n",
       "      <td>16.3</td>\n",
       "      <td>26.8</td>\n",
       "      <td>27.7</td>\n",
       "      <td>27.3</td>\n",
       "      <td>25.3</td>\n",
       "      <td>25.0</td>\n",
       "      <td>23.7</td>\n",
       "      <td>23.9</td>\n",
       "    </tr>\n",
       "    <tr>\n",
       "      <th>178</th>\n",
       "      <td>Rättvik</td>\n",
       "      <td>22.8</td>\n",
       "      <td>21.6</td>\n",
       "      <td>20.5</td>\n",
       "      <td>22.8</td>\n",
       "      <td>19.6</td>\n",
       "      <td>21.2</td>\n",
       "      <td>20.1</td>\n",
       "      <td>18.9</td>\n",
       "      <td>18.2</td>\n",
       "      <td>16.8</td>\n",
       "      <td>18.3</td>\n",
       "      <td>19.7</td>\n",
       "    </tr>\n",
       "    <tr>\n",
       "      <th>280</th>\n",
       "      <td>Ödeshög</td>\n",
       "      <td>15.8</td>\n",
       "      <td>16.0</td>\n",
       "      <td>16.1</td>\n",
       "      <td>15.8</td>\n",
       "      <td>15.5</td>\n",
       "      <td>18.0</td>\n",
       "      <td>18.1</td>\n",
       "      <td>17.3</td>\n",
       "      <td>17.3</td>\n",
       "      <td>17.0</td>\n",
       "      <td>16.6</td>\n",
       "      <td>15.6</td>\n",
       "    </tr>\n",
       "  </tbody>\n",
       "</table>\n",
       "</div>"
      ],
      "text/plain": [
       "          kommun   2005   2006   2007   2008   2009   2010   2011   2012  \\\n",
       "170    Oxelösund  232.7  198.5  212.1  196.3   82.4  198.7  174.4  142.4   \n",
       "133      Lysekil   90.0  122.4  117.1  126.6  128.4  120.3  125.0  130.2   \n",
       "130        Luleå   55.0   54.7   56.2   53.8   39.6   52.7   49.9   45.7   \n",
       "197  Stenungsund   45.2   38.7   40.1   36.5   32.6   47.1   42.8   41.2   \n",
       "51       Gotland   40.3   41.5   36.3   37.1   34.6   38.4   39.8   41.0   \n",
       "100       Kiruna   29.3   23.2   23.6   23.7   20.3   33.1   33.8   33.3   \n",
       "149   Mörbylånga   29.5   28.3   26.6   29.5   27.6   29.1   29.9   28.3   \n",
       "55     Gällivare   24.1   15.5   18.4   18.4   16.3   26.8   27.7   27.3   \n",
       "178      Rättvik   22.8   21.6   20.5   22.8   19.6   21.2   20.1   18.9   \n",
       "280      Ödeshög   15.8   16.0   16.1   15.8   15.5   18.0   18.1   17.3   \n",
       "\n",
       "      2013   2014   2015   2016  \n",
       "170  133.6  137.9  189.8  130.7  \n",
       "133  105.7  120.7  127.8  101.8  \n",
       "130   47.5   47.9   38.8   50.8  \n",
       "197   42.3   40.0   37.6   41.0  \n",
       "51    38.4   37.9   41.0   38.7  \n",
       "100   31.6   32.0   31.1   32.3  \n",
       "149   26.5   28.2   27.1   25.9  \n",
       "55    25.3   25.0   23.7   23.9  \n",
       "178   18.2   16.8   18.3   19.7  \n",
       "280   17.3   17.0   16.6   15.6  "
      ]
     },
     "execution_count": 27,
     "metadata": {},
     "output_type": "execute_result"
    }
   ],
   "source": [
    "kommuner.sort_values(2016,ascending=False).head(10)"
   ]
  },
  {
   "cell_type": "code",
   "execution_count": 28,
   "metadata": {},
   "outputs": [
    {
     "data": {
      "text/html": [
       "<div>\n",
       "<style scoped>\n",
       "    .dataframe tbody tr th:only-of-type {\n",
       "        vertical-align: middle;\n",
       "    }\n",
       "\n",
       "    .dataframe tbody tr th {\n",
       "        vertical-align: top;\n",
       "    }\n",
       "\n",
       "    .dataframe thead th {\n",
       "        text-align: right;\n",
       "    }\n",
       "</style>\n",
       "<table border=\"1\" class=\"dataframe\">\n",
       "  <thead>\n",
       "    <tr style=\"text-align: right;\">\n",
       "      <th></th>\n",
       "      <th>land</th>\n",
       "      <th>2000</th>\n",
       "      <th>2001</th>\n",
       "      <th>2002</th>\n",
       "      <th>2003</th>\n",
       "      <th>2004</th>\n",
       "      <th>2005</th>\n",
       "      <th>2006</th>\n",
       "      <th>2007</th>\n",
       "      <th>2008</th>\n",
       "      <th>2009</th>\n",
       "      <th>2010</th>\n",
       "      <th>2011</th>\n",
       "      <th>2012</th>\n",
       "      <th>2013</th>\n",
       "      <th>2014</th>\n",
       "      <th>2015</th>\n",
       "      <th>2016</th>\n",
       "    </tr>\n",
       "  </thead>\n",
       "  <tbody>\n",
       "    <tr>\n",
       "      <th>16</th>\n",
       "      <td>Luxembourg</td>\n",
       "      <td>22.3</td>\n",
       "      <td>23.1</td>\n",
       "      <td>24.6</td>\n",
       "      <td>25.4</td>\n",
       "      <td>28.0</td>\n",
       "      <td>28.2</td>\n",
       "      <td>27.4</td>\n",
       "      <td>25.7</td>\n",
       "      <td>25.1</td>\n",
       "      <td>23.5</td>\n",
       "      <td>24.2</td>\n",
       "      <td>23.5</td>\n",
       "      <td>22.4</td>\n",
       "      <td>20.9</td>\n",
       "      <td>19.6</td>\n",
       "      <td>18.3</td>\n",
       "      <td>17.4</td>\n",
       "    </tr>\n",
       "    <tr>\n",
       "      <th>5</th>\n",
       "      <td>Estland</td>\n",
       "      <td>12.3</td>\n",
       "      <td>12.7</td>\n",
       "      <td>12.4</td>\n",
       "      <td>13.9</td>\n",
       "      <td>14.1</td>\n",
       "      <td>14.1</td>\n",
       "      <td>13.7</td>\n",
       "      <td>16.5</td>\n",
       "      <td>14.9</td>\n",
       "      <td>12.5</td>\n",
       "      <td>15.8</td>\n",
       "      <td>15.9</td>\n",
       "      <td>15.2</td>\n",
       "      <td>16.5</td>\n",
       "      <td>16.0</td>\n",
       "      <td>13.7</td>\n",
       "      <td>14.9</td>\n",
       "    </tr>\n",
       "    <tr>\n",
       "      <th>10</th>\n",
       "      <td>Island</td>\n",
       "      <td>14.6</td>\n",
       "      <td>14.0</td>\n",
       "      <td>14.1</td>\n",
       "      <td>13.9</td>\n",
       "      <td>14.2</td>\n",
       "      <td>13.5</td>\n",
       "      <td>15.3</td>\n",
       "      <td>15.9</td>\n",
       "      <td>16.7</td>\n",
       "      <td>15.6</td>\n",
       "      <td>15.4</td>\n",
       "      <td>14.5</td>\n",
       "      <td>14.5</td>\n",
       "      <td>14.4</td>\n",
       "      <td>14.3</td>\n",
       "      <td>14.4</td>\n",
       "      <td>14.0</td>\n",
       "    </tr>\n",
       "    <tr>\n",
       "      <th>9</th>\n",
       "      <td>Irland</td>\n",
       "      <td>18.1</td>\n",
       "      <td>18.4</td>\n",
       "      <td>17.6</td>\n",
       "      <td>17.3</td>\n",
       "      <td>16.9</td>\n",
       "      <td>16.9</td>\n",
       "      <td>16.4</td>\n",
       "      <td>15.7</td>\n",
       "      <td>15.1</td>\n",
       "      <td>13.6</td>\n",
       "      <td>13.5</td>\n",
       "      <td>12.5</td>\n",
       "      <td>12.6</td>\n",
       "      <td>12.5</td>\n",
       "      <td>12.4</td>\n",
       "      <td>12.7</td>\n",
       "      <td>13.0</td>\n",
       "    </tr>\n",
       "    <tr>\n",
       "      <th>29</th>\n",
       "      <td>Tjeckien</td>\n",
       "      <td>14.5</td>\n",
       "      <td>14.5</td>\n",
       "      <td>14.2</td>\n",
       "      <td>14.6</td>\n",
       "      <td>14.6</td>\n",
       "      <td>14.4</td>\n",
       "      <td>14.5</td>\n",
       "      <td>14.6</td>\n",
       "      <td>14.1</td>\n",
       "      <td>13.1</td>\n",
       "      <td>13.3</td>\n",
       "      <td>13.1</td>\n",
       "      <td>12.7</td>\n",
       "      <td>12.2</td>\n",
       "      <td>12.0</td>\n",
       "      <td>12.1</td>\n",
       "      <td>12.3</td>\n",
       "    </tr>\n",
       "    <tr>\n",
       "      <th>18</th>\n",
       "      <td>Nederländerna</td>\n",
       "      <td>13.8</td>\n",
       "      <td>13.7</td>\n",
       "      <td>13.5</td>\n",
       "      <td>13.5</td>\n",
       "      <td>13.5</td>\n",
       "      <td>13.1</td>\n",
       "      <td>12.8</td>\n",
       "      <td>12.7</td>\n",
       "      <td>12.6</td>\n",
       "      <td>12.2</td>\n",
       "      <td>12.9</td>\n",
       "      <td>12.0</td>\n",
       "      <td>11.6</td>\n",
       "      <td>11.6</td>\n",
       "      <td>11.1</td>\n",
       "      <td>11.5</td>\n",
       "      <td>11.5</td>\n",
       "    </tr>\n",
       "    <tr>\n",
       "      <th>31</th>\n",
       "      <td>Tyskland</td>\n",
       "      <td>12.7</td>\n",
       "      <td>12.9</td>\n",
       "      <td>12.6</td>\n",
       "      <td>12.5</td>\n",
       "      <td>12.3</td>\n",
       "      <td>12.0</td>\n",
       "      <td>12.1</td>\n",
       "      <td>11.8</td>\n",
       "      <td>11.9</td>\n",
       "      <td>11.1</td>\n",
       "      <td>11.5</td>\n",
       "      <td>11.5</td>\n",
       "      <td>11.5</td>\n",
       "      <td>11.7</td>\n",
       "      <td>11.2</td>\n",
       "      <td>11.2</td>\n",
       "      <td>11.1</td>\n",
       "    </tr>\n",
       "    <tr>\n",
       "      <th>6</th>\n",
       "      <td>Finland</td>\n",
       "      <td>13.5</td>\n",
       "      <td>14.6</td>\n",
       "      <td>15.0</td>\n",
       "      <td>16.4</td>\n",
       "      <td>15.7</td>\n",
       "      <td>13.3</td>\n",
       "      <td>15.4</td>\n",
       "      <td>15.0</td>\n",
       "      <td>13.4</td>\n",
       "      <td>12.7</td>\n",
       "      <td>14.1</td>\n",
       "      <td>12.6</td>\n",
       "      <td>11.5</td>\n",
       "      <td>11.6</td>\n",
       "      <td>10.8</td>\n",
       "      <td>10.1</td>\n",
       "      <td>10.7</td>\n",
       "    </tr>\n",
       "    <tr>\n",
       "      <th>0</th>\n",
       "      <td>Belgien</td>\n",
       "      <td>14.6</td>\n",
       "      <td>14.4</td>\n",
       "      <td>14.3</td>\n",
       "      <td>14.3</td>\n",
       "      <td>14.4</td>\n",
       "      <td>13.9</td>\n",
       "      <td>13.6</td>\n",
       "      <td>13.1</td>\n",
       "      <td>13.0</td>\n",
       "      <td>11.7</td>\n",
       "      <td>12.2</td>\n",
       "      <td>11.1</td>\n",
       "      <td>10.8</td>\n",
       "      <td>10.7</td>\n",
       "      <td>10.2</td>\n",
       "      <td>10.5</td>\n",
       "      <td>10.4</td>\n",
       "    </tr>\n",
       "    <tr>\n",
       "      <th>20</th>\n",
       "      <td>Polen</td>\n",
       "      <td>10.2</td>\n",
       "      <td>10.2</td>\n",
       "      <td>9.9</td>\n",
       "      <td>10.3</td>\n",
       "      <td>10.4</td>\n",
       "      <td>10.4</td>\n",
       "      <td>10.8</td>\n",
       "      <td>10.8</td>\n",
       "      <td>10.6</td>\n",
       "      <td>10.2</td>\n",
       "      <td>10.7</td>\n",
       "      <td>10.7</td>\n",
       "      <td>10.5</td>\n",
       "      <td>10.4</td>\n",
       "      <td>10.0</td>\n",
       "      <td>10.1</td>\n",
       "      <td>10.4</td>\n",
       "    </tr>\n",
       "  </tbody>\n",
       "</table>\n",
       "</div>"
      ],
      "text/plain": [
       "             land  2000  2001  2002  2003  2004  2005  2006  2007  2008  2009  \\\n",
       "16     Luxembourg  22.3  23.1  24.6  25.4  28.0  28.2  27.4  25.7  25.1  23.5   \n",
       "5         Estland  12.3  12.7  12.4  13.9  14.1  14.1  13.7  16.5  14.9  12.5   \n",
       "10         Island  14.6  14.0  14.1  13.9  14.2  13.5  15.3  15.9  16.7  15.6   \n",
       "9          Irland  18.1  18.4  17.6  17.3  16.9  16.9  16.4  15.7  15.1  13.6   \n",
       "29       Tjeckien  14.5  14.5  14.2  14.6  14.6  14.4  14.5  14.6  14.1  13.1   \n",
       "18  Nederländerna  13.8  13.7  13.5  13.5  13.5  13.1  12.8  12.7  12.6  12.2   \n",
       "31       Tyskland  12.7  12.9  12.6  12.5  12.3  12.0  12.1  11.8  11.9  11.1   \n",
       "6         Finland  13.5  14.6  15.0  16.4  15.7  13.3  15.4  15.0  13.4  12.7   \n",
       "0         Belgien  14.6  14.4  14.3  14.3  14.4  13.9  13.6  13.1  13.0  11.7   \n",
       "20          Polen  10.2  10.2   9.9  10.3  10.4  10.4  10.8  10.8  10.6  10.2   \n",
       "\n",
       "    2010  2011  2012  2013  2014  2015  2016  \n",
       "16  24.2  23.5  22.4  20.9  19.6  18.3  17.4  \n",
       "5   15.8  15.9  15.2  16.5  16.0  13.7  14.9  \n",
       "10  15.4  14.5  14.5  14.4  14.3  14.4  14.0  \n",
       "9   13.5  12.5  12.6  12.5  12.4  12.7  13.0  \n",
       "29  13.3  13.1  12.7  12.2  12.0  12.1  12.3  \n",
       "18  12.9  12.0  11.6  11.6  11.1  11.5  11.5  \n",
       "31  11.5  11.5  11.5  11.7  11.2  11.2  11.1  \n",
       "6   14.1  12.6  11.5  11.6  10.8  10.1  10.7  \n",
       "0   12.2  11.1  10.8  10.7  10.2  10.5  10.4  \n",
       "20  10.7  10.7  10.5  10.4  10.0  10.1  10.4  "
      ]
     },
     "execution_count": 28,
     "metadata": {},
     "output_type": "execute_result"
    }
   ],
   "source": [
    "ems_inv.sort_values(2016,ascending=False).head(10)"
   ]
  },
  {
   "cell_type": "markdown",
   "metadata": {},
   "source": [
    "Ovan ser vi att det är 8 kommuner som ligger högre än det land i EU som har högst utsläpp per invånare. Nu att kolla hur många svenska kommuner som ligger över EU-snittet:"
   ]
  },
  {
   "cell_type": "code",
   "execution_count": 29,
   "metadata": {},
   "outputs": [
    {
     "data": {
      "text/html": [
       "<div>\n",
       "<style scoped>\n",
       "    .dataframe tbody tr th:only-of-type {\n",
       "        vertical-align: middle;\n",
       "    }\n",
       "\n",
       "    .dataframe tbody tr th {\n",
       "        vertical-align: top;\n",
       "    }\n",
       "\n",
       "    .dataframe thead th {\n",
       "        text-align: right;\n",
       "    }\n",
       "</style>\n",
       "<table border=\"1\" class=\"dataframe\">\n",
       "  <thead>\n",
       "    <tr style=\"text-align: right;\">\n",
       "      <th></th>\n",
       "      <th>land</th>\n",
       "      <th>2000</th>\n",
       "      <th>2001</th>\n",
       "      <th>2002</th>\n",
       "      <th>2003</th>\n",
       "      <th>2004</th>\n",
       "      <th>2005</th>\n",
       "      <th>2006</th>\n",
       "      <th>2007</th>\n",
       "      <th>2008</th>\n",
       "      <th>2009</th>\n",
       "      <th>2010</th>\n",
       "      <th>2011</th>\n",
       "      <th>2012</th>\n",
       "      <th>2013</th>\n",
       "      <th>2014</th>\n",
       "      <th>2015</th>\n",
       "      <th>2016</th>\n",
       "    </tr>\n",
       "  </thead>\n",
       "  <tbody>\n",
       "    <tr>\n",
       "      <th>4</th>\n",
       "      <td>EU28</td>\n",
       "      <td>10.6</td>\n",
       "      <td>10.7</td>\n",
       "      <td>10.6</td>\n",
       "      <td>10.7</td>\n",
       "      <td>10.7</td>\n",
       "      <td>10.6</td>\n",
       "      <td>10.5</td>\n",
       "      <td>10.4</td>\n",
       "      <td>10.1</td>\n",
       "      <td>9.3</td>\n",
       "      <td>9.5</td>\n",
       "      <td>9.2</td>\n",
       "      <td>9.0</td>\n",
       "      <td>8.8</td>\n",
       "      <td>8.5</td>\n",
       "      <td>8.5</td>\n",
       "      <td>8.4</td>\n",
       "    </tr>\n",
       "  </tbody>\n",
       "</table>\n",
       "</div>"
      ],
      "text/plain": [
       "   land  2000  2001  2002  2003  2004  2005  2006  2007  2008  2009  2010  \\\n",
       "4  EU28  10.6  10.7  10.6  10.7  10.7  10.6  10.5  10.4  10.1   9.3   9.5   \n",
       "\n",
       "   2011  2012  2013  2014  2015  2016  \n",
       "4   9.2   9.0   8.8   8.5   8.5   8.4  "
      ]
     },
     "execution_count": 29,
     "metadata": {},
     "output_type": "execute_result"
    }
   ],
   "source": [
    "ems_inv[ems_inv['land']=='EU28']"
   ]
  },
  {
   "cell_type": "code",
   "execution_count": 30,
   "metadata": {},
   "outputs": [
    {
     "data": {
      "text/plain": [
       "(31, 13)"
      ]
     },
     "execution_count": 30,
     "metadata": {},
     "output_type": "execute_result"
    }
   ],
   "source": [
    "kommuner[kommuner[2016]>8.7].shape"
   ]
  },
  {
   "cell_type": "markdown",
   "metadata": {},
   "source": [
    "Det är 31 kommuner som ligger över EU:s genomsnitt!"
   ]
  },
  {
   "cell_type": "markdown",
   "metadata": {},
   "source": [
    "**Utsläpp svenska regioner**"
   ]
  },
  {
   "cell_type": "code",
   "execution_count": 31,
   "metadata": {},
   "outputs": [],
   "source": [
    "df = pd.read_excel('data/rus_regionrapport.xls')"
   ]
  },
  {
   "cell_type": "code",
   "execution_count": 32,
   "metadata": {},
   "outputs": [],
   "source": [
    "df.columns = df.iloc[0,:4].tolist() + df.columns[4:].tolist()"
   ]
  },
  {
   "cell_type": "code",
   "execution_count": 33,
   "metadata": {},
   "outputs": [],
   "source": [
    "df = df.iloc[1:]"
   ]
  },
  {
   "cell_type": "code",
   "execution_count": 34,
   "metadata": {},
   "outputs": [],
   "source": [
    "for col in df.columns[4:]:\n",
    "    df[col] = pd.to_numeric(df[col])"
   ]
  },
  {
   "cell_type": "code",
   "execution_count": 35,
   "metadata": {},
   "outputs": [],
   "source": [
    "df.columns = df.columns.str.lower()"
   ]
  },
  {
   "cell_type": "code",
   "execution_count": 36,
   "metadata": {},
   "outputs": [],
   "source": [
    "df = df[(df['huvudsektor']=='alla')&(~df['län'].isin(['alla','Rest']))&(df['kommun']=='alla')]"
   ]
  },
  {
   "cell_type": "code",
   "execution_count": 37,
   "metadata": {},
   "outputs": [],
   "source": [
    "df = df.drop(['huvudsektor','undersektor','kommun'],axis=1).reset_index(drop=True)"
   ]
  },
  {
   "cell_type": "code",
   "execution_count": 38,
   "metadata": {},
   "outputs": [],
   "source": [
    "pop = pd.read_csv('data/folkmängd_län.csv',encoding=\"ISO-8859-1\")"
   ]
  },
  {
   "cell_type": "code",
   "execution_count": 39,
   "metadata": {},
   "outputs": [],
   "source": [
    "år = df.columns[1:].tolist()"
   ]
  },
  {
   "cell_type": "code",
   "execution_count": 40,
   "metadata": {},
   "outputs": [],
   "source": [
    "pop = pop[pop['år'].isin(år)]"
   ]
  },
  {
   "cell_type": "code",
   "execution_count": 41,
   "metadata": {},
   "outputs": [
    {
     "data": {
      "text/html": [
       "<div>\n",
       "<style scoped>\n",
       "    .dataframe tbody tr th:only-of-type {\n",
       "        vertical-align: middle;\n",
       "    }\n",
       "\n",
       "    .dataframe tbody tr th {\n",
       "        vertical-align: top;\n",
       "    }\n",
       "\n",
       "    .dataframe thead th {\n",
       "        text-align: right;\n",
       "    }\n",
       "</style>\n",
       "<table border=\"1\" class=\"dataframe\">\n",
       "  <thead>\n",
       "    <tr style=\"text-align: right;\">\n",
       "      <th></th>\n",
       "      <th>år</th>\n",
       "      <th>region</th>\n",
       "      <th>Folkmängd</th>\n",
       "    </tr>\n",
       "  </thead>\n",
       "  <tbody>\n",
       "    <tr>\n",
       "      <th>0</th>\n",
       "      <td>1990</td>\n",
       "      <td>01 Stockholms län</td>\n",
       "      <td>1641669</td>\n",
       "    </tr>\n",
       "    <tr>\n",
       "      <th>1</th>\n",
       "      <td>1990</td>\n",
       "      <td>03 Uppsala län</td>\n",
       "      <td>268835</td>\n",
       "    </tr>\n",
       "    <tr>\n",
       "      <th>2</th>\n",
       "      <td>1990</td>\n",
       "      <td>04 Södermanlands län</td>\n",
       "      <td>255636</td>\n",
       "    </tr>\n",
       "    <tr>\n",
       "      <th>3</th>\n",
       "      <td>1990</td>\n",
       "      <td>05 Östergötlands län</td>\n",
       "      <td>403011</td>\n",
       "    </tr>\n",
       "    <tr>\n",
       "      <th>4</th>\n",
       "      <td>1990</td>\n",
       "      <td>06 Jönköpings län</td>\n",
       "      <td>325163</td>\n",
       "    </tr>\n",
       "  </tbody>\n",
       "</table>\n",
       "</div>"
      ],
      "text/plain": [
       "     år                region  Folkmängd\n",
       "0  1990     01 Stockholms län    1641669\n",
       "1  1990        03 Uppsala län     268835\n",
       "2  1990  04 Södermanlands län     255636\n",
       "3  1990  05 Östergötlands län     403011\n",
       "4  1990     06 Jönköpings län     325163"
      ]
     },
     "execution_count": 41,
     "metadata": {},
     "output_type": "execute_result"
    }
   ],
   "source": [
    "pop.head()"
   ]
  },
  {
   "cell_type": "code",
   "execution_count": 42,
   "metadata": {},
   "outputs": [],
   "source": [
    "pop.region = pop.region.str.replace('(\\d+ )','')"
   ]
  },
  {
   "cell_type": "code",
   "execution_count": 43,
   "metadata": {},
   "outputs": [],
   "source": [
    "pop = pop.pivot_table(index='region',columns='år').reset_index().rename(columns={'region':'län'})\n",
    "pop.columns = pop.columns.droplevel()\n",
    "pop.columns = ['län']+ pop.columns[1:].tolist()\n",
    "pop = pop.set_index('län').astype('int')"
   ]
  },
  {
   "cell_type": "code",
   "execution_count": 44,
   "metadata": {},
   "outputs": [],
   "source": [
    "df = df.sort_values('län').reset_index(drop=True).set_index('län').astype('int')"
   ]
  },
  {
   "cell_type": "code",
   "execution_count": 45,
   "metadata": {},
   "outputs": [],
   "source": [
    "df = pd.DataFrame((df.values / pop.values), index=df.index, columns=df.columns)"
   ]
  },
  {
   "cell_type": "code",
   "execution_count": 46,
   "metadata": {},
   "outputs": [
    {
     "data": {
      "text/plain": [
       "län\n",
       "Stockholms län           2.153484\n",
       "Blekinge län             3.747742\n",
       "Skåne län                4.363264\n",
       "Uppsala län              4.414602\n",
       "Värmlands län            4.500014\n",
       "Örebro län               4.646916\n",
       "Hallands län             4.682549\n",
       "Jönköpings län           4.721678\n",
       "Kronobergs län           4.750185\n",
       "Gävleborgs län           5.057227\n",
       "Västmanlands län         5.183904\n",
       "Östergötlands län        5.216945\n",
       "Västerbottens län        5.552097\n",
       "Jämtlands län            5.584023\n",
       "Västernorrlands län      5.971369\n",
       "Västra Götalands län     6.076578\n",
       "Dalarnas län             6.158651\n",
       "Kalmar län               6.910215\n",
       "Södermanlands län        9.251297\n",
       "Norrbottens län         23.193140\n",
       "Gotlands län            38.742531\n",
       "Name: 2016, dtype: float64"
      ]
     },
     "execution_count": 46,
     "metadata": {},
     "output_type": "execute_result"
    }
   ],
   "source": [
    "df.sort_values('2016',ascending=True)['2016']"
   ]
  },
  {
   "cell_type": "code",
   "execution_count": 47,
   "metadata": {},
   "outputs": [],
   "source": [
    "test = pd.concat([ems_inv.set_index('land')[2016],df.sort_values('2016',ascending=True)['2016']]).round(1)"
   ]
  },
  {
   "cell_type": "code",
   "execution_count": 63,
   "metadata": {},
   "outputs": [],
   "source": [
    "if not os.path.isdir('res'):\n",
    "    os.makedirs('res')"
   ]
  },
  {
   "cell_type": "code",
   "execution_count": 50,
   "metadata": {},
   "outputs": [
    {
     "data": {
      "image/png": "[encoded data removed]",
      "text/plain": [
       "<Figure size 648x1296 with 1 Axes>"
      ]
     },
     "metadata": {
      "needs_background": "light"
     },
     "output_type": "display_data"
    }
   ],
   "source": [
    "fig, ax = plt.subplots()\n",
    "test.sort_values(ascending=True).plot(ax=ax,kind='barh',figsize=(9,18))\n",
    "plt.title('Utsläpp växthusgaser 2016 – i ton per invånare')\n",
    "plt.xlabel('Ton/inv')\n",
    "plt.grid(True,alpha=0.5)\n",
    "plt.savefig('res/graf.png',dpi=100,bbox_inches='tight')"
   ]
  },
  {
   "cell_type": "code",
   "execution_count": 51,
   "metadata": {},
   "outputs": [],
   "source": [
    "df['diff'] = (((df['2016']/df['2000'])-1)*100).round(1)"
   ]
  },
  {
   "cell_type": "code",
   "execution_count": 52,
   "metadata": {},
   "outputs": [],
   "source": [
    "ems_inv['diff'] = (((ems_inv[2016]/ems_inv[2000])-1)*100).round(1)"
   ]
  },
  {
   "cell_type": "code",
   "execution_count": 53,
   "metadata": {},
   "outputs": [],
   "source": [
    "test = pd.concat([ems_inv.set_index('land')['diff'],df.sort_values('diff',ascending=True)['diff']]).round(1)"
   ]
  },
  {
   "cell_type": "code",
   "execution_count": 54,
   "metadata": {},
   "outputs": [
    {
     "data": {
      "image/png": "[encoded data removed]",
      "text/plain": [
       "<Figure size 648x1296 with 1 Axes>"
      ]
     },
     "metadata": {
      "needs_background": "light"
     },
     "output_type": "display_data"
    }
   ],
   "source": [
    "fig, ax = plt.subplots()\n",
    "test.sort_values(ascending=True).plot(ax=ax,kind='barh',figsize=(9,18))\n",
    "plt.title('Förändring i utsläpp växthusgaser per invånare mellan 2000-2016, %')\n",
    "plt.xlabel('Procents förändring')\n",
    "plt.grid(True,alpha=0.5)\n",
    "plt.savefig('res/graf_förändring.png',dpi=100,bbox_inches='tight')"
   ]
  },
  {
   "cell_type": "code",
   "execution_count": 55,
   "metadata": {},
   "outputs": [],
   "source": [
    "w = pd.ExcelWriter('res/resultat.xlsx')"
   ]
  },
  {
   "cell_type": "code",
   "execution_count": 56,
   "metadata": {},
   "outputs": [],
   "source": [
    "df.to_excel(w,'Svenska regioner')"
   ]
  },
  {
   "cell_type": "code",
   "execution_count": 57,
   "metadata": {},
   "outputs": [],
   "source": [
    "ems_inv.to_excel(w,'Europa')"
   ]
  },
  {
   "cell_type": "code",
   "execution_count": 58,
   "metadata": {},
   "outputs": [],
   "source": [
    "w.save()"
   ]
  },
  {
   "cell_type": "code",
   "execution_count": null,
   "metadata": {},
   "outputs": [],
   "source": []
  },
  {
   "cell_type": "code",
   "execution_count": null,
   "metadata": {},
   "outputs": [],
   "source": []
  }
 ],
 "metadata": {
  "kernelspec": {
   "display_name": "Python 3",
   "language": "python",
   "name": "python3"
  },
  "language_info": {
   "codemirror_mode": {
    "name": "ipython",
    "version": 3
   },
   "file_extension": ".py",
   "mimetype": "text/x-python",
   "name": "python",
   "nbconvert_exporter": "python",
   "pygments_lexer": "ipython3",
   "version": "3.7.2"
  }
 },
 "nbformat": 4,
 "nbformat_minor": 2
}
